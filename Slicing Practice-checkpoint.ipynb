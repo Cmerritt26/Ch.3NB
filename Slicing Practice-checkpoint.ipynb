{
 "cells": [
  {
   "cell_type": "markdown",
   "id": "84114222",
   "metadata": {},
   "source": [
    "### Practice Questions on Lists\n",
    "(Submit the notebook on Moodle using Github along with the class notebook)"
   ]
  },
  {
   "cell_type": "markdown",
   "id": "0891df79",
   "metadata": {},
   "source": [
    "### numbers = [0, 1, 2, 3, 4, 5, 6, 7, 8, 9]\n",
    "1. Get the first three elements.\n",
    "2. Get elements from index 3 to 6 (inclusive).\n",
    "3. Get the last three elements.\n",
    "4. Get every second element from the list.\n",
    "5. Get a reverse of the list."
   ]
  },
  {
   "cell_type": "code",
   "execution_count": 1,
   "id": "5efba997",
   "metadata": {},
   "outputs": [],
   "source": [
    "numbers = [0, 1, 2, 3, 4, 5, 6, 7, 8, 9,]"
   ]
  },
  {
   "cell_type": "code",
   "execution_count": 2,
   "id": "2183500f",
   "metadata": {},
   "outputs": [
    {
     "name": "stdout",
     "output_type": "stream",
     "text": [
      "first three numbers: [3, 4, 5, 6]\n"
     ]
    }
   ],
   "source": [
    "print(f\"first three numbers: {numbers[3:7]}\")"
   ]
  },
  {
   "cell_type": "code",
   "execution_count": 3,
   "id": "0e42f1e1",
   "metadata": {},
   "outputs": [
    {
     "name": "stdout",
     "output_type": "stream",
     "text": [
      "The last three: 7\n"
     ]
    }
   ],
   "source": [
    "print(f\"The last three: {numbers[-3]}\")"
   ]
  },
  {
   "cell_type": "code",
   "execution_count": 4,
   "id": "eae52c1f",
   "metadata": {},
   "outputs": [
    {
     "name": "stdout",
     "output_type": "stream",
     "text": [
      "Every second elements: [0, 2, 4, 6, 8]\n"
     ]
    }
   ],
   "source": [
    "print(f\"Every second elements: {numbers[::2]}\")"
   ]
  },
  {
   "cell_type": "code",
   "execution_count": 5,
   "id": "9c08e961",
   "metadata": {},
   "outputs": [
    {
     "name": "stdout",
     "output_type": "stream",
     "text": [
      "Reverse: [9, 8, 7, 6, 5, 4, 3, 2, 1, 0]\n"
     ]
    }
   ],
   "source": [
    "print(f\"Reverse: {numbers[::-1]}\")"
   ]
  },
  {
   "cell_type": "markdown",
   "id": "dcc22463",
   "metadata": {},
   "source": [
    "### letters = ['a', 'b', 'c', 'd', 'e', 'f', 'g', 'h', 'i', 'j']\n",
    "1. Get every second letter starting from the first letter.\n",
    "2. Get every third letter starting from the second letter.\n",
    "3. Get every fourth letter starting from the third letter."
   ]
  },
  {
   "cell_type": "code",
   "execution_count": 8,
   "id": "34576f2b",
   "metadata": {},
   "outputs": [],
   "source": [
    "letters = ['a', 'b', 'c', 'd', 'e', 'f', 'g', 'h', 'i', 'j']"
   ]
  },
  {
   "cell_type": "code",
   "execution_count": 9,
   "id": "7f3f0694",
   "metadata": {},
   "outputs": [
    {
     "name": "stdout",
     "output_type": "stream",
     "text": [
      "Every second letter starting from the first letter: ['a', 'c', 'e', 'g', 'i']\n"
     ]
    }
   ],
   "source": [
    "print(f\"Every second letter starting from the first letter: {letters[::2]}\")"
   ]
  },
  {
   "cell_type": "code",
   "execution_count": 11,
   "id": "7c237d4a",
   "metadata": {},
   "outputs": [
    {
     "name": "stdout",
     "output_type": "stream",
     "text": [
      "Every third letter starting from the second letter\n",
      "['b', 'e', 'h']\n"
     ]
    }
   ],
   "source": [
    "print(f\"Every third letter starting from the second letter\")\n",
    "print(letters[1::3])"
   ]
  },
  {
   "cell_type": "code",
   "execution_count": 12,
   "id": "9cf677dc",
   "metadata": {},
   "outputs": [
    {
     "name": "stdout",
     "output_type": "stream",
     "text": [
      "Every fourth letter starting from the third letter\n",
      "['c', 'g']\n"
     ]
    }
   ],
   "source": [
    "print(f\"Every fourth letter starting from the third letter\")\n",
    "print(letters[2::4])"
   ]
  },
  {
   "cell_type": "markdown",
   "id": "ee041ed9",
   "metadata": {},
   "source": [
    "### colors = ['red', 'green', 'blue', 'yellow', 'purple']\n",
    "1. Get the last two elements.\n",
    "2. Get elements from the third to the last element.\n",
    "3. Get a reverse of the list using negative indexing."
   ]
  },
  {
   "cell_type": "code",
   "execution_count": 13,
   "id": "0e5e09a0",
   "metadata": {},
   "outputs": [
    {
     "name": "stdout",
     "output_type": "stream",
     "text": [
      "Last two elements: ['yellow', 'purple']\n"
     ]
    }
   ],
   "source": [
    "colors = ['red', 'green', 'blue', 'yellow', 'purple']\n",
    "print(f\"Last two elements: {colors[-2:]}\")"
   ]
  },
  {
   "cell_type": "code",
   "execution_count": 15,
   "id": "54a6f796",
   "metadata": {},
   "outputs": [
    {
     "name": "stdout",
     "output_type": "stream",
     "text": [
      "Elements third to last: ['blue', 'yellow', 'purple']\n"
     ]
    }
   ],
   "source": [
    "print(f\"Elements third to last: {colors[2:]}\")"
   ]
  },
  {
   "cell_type": "code",
   "execution_count": 16,
   "id": "6c170516",
   "metadata": {},
   "outputs": [
    {
     "name": "stdout",
     "output_type": "stream",
     "text": [
      "Reverse the list: ['purple', 'yellow', 'blue', 'green', 'red']\n"
     ]
    }
   ],
   "source": [
    "print(f\"Reverse the list: {colors[::-1]}\")"
   ]
  },
  {
   "cell_type": "code",
   "execution_count": 17,
   "id": "75653283",
   "metadata": {},
   "outputs": [
    {
     "name": "stdout",
     "output_type": "stream",
     "text": [
      "Reverse the list with step of two: ['purple', 'blue', 'red']\n"
     ]
    }
   ],
   "source": [
    "print(f\"Reverse the list with step of two: {colors[::-2]}\")"
   ]
  },
  {
   "cell_type": "markdown",
   "id": "015a43d4",
   "metadata": {},
   "source": [
    "## Slicing Nested Lists\n",
    "### matrix = [[1, 2, 3], [4, 5, 6], [7, 8, 9]]\n",
    "1. Extract the second row (list [4, 5, 6]).\n",
    "2. Extract the number 2.\n",
    "3. Extract the number 9."
   ]
  },
  {
   "cell_type": "code",
   "execution_count": 18,
   "id": "b45aca96",
   "metadata": {},
   "outputs": [],
   "source": [
    "matrix = [[1,2,3],[4,5,6],[7,8,9]]"
   ]
  },
  {
   "cell_type": "code",
   "execution_count": 19,
   "id": "3cef0e46",
   "metadata": {},
   "outputs": [
    {
     "name": "stdout",
     "output_type": "stream",
     "text": [
      "second row: [4, 5, 6]\n"
     ]
    }
   ],
   "source": [
    "print(f\"second row: {matrix[1]}\")"
   ]
  },
  {
   "cell_type": "code",
   "execution_count": 20,
   "id": "f6912ee9",
   "metadata": {},
   "outputs": [
    {
     "name": "stdout",
     "output_type": "stream",
     "text": [
      "number 2: 2\n"
     ]
    }
   ],
   "source": [
    "print(f\"number 2: {matrix[0][1]}\")"
   ]
  },
  {
   "cell_type": "code",
   "execution_count": 21,
   "id": "4e6d58c8",
   "metadata": {},
   "outputs": [
    {
     "name": "stdout",
     "output_type": "stream",
     "text": [
      "number 9: 9\n"
     ]
    }
   ],
   "source": [
    "print(f\"number 9: {matrix[2][2]}\")"
   ]
  },
  {
   "cell_type": "code",
   "execution_count": null,
   "id": "f2c197dd",
   "metadata": {},
   "outputs": [],
   "source": [
    "### Matrix1=['day',[23,45],'Monday',[[12,13],[14,15]]]"
   ]
  },
  {
   "cell_type": "code",
   "execution_count": 24,
   "id": "d4e64d25",
   "metadata": {},
   "outputs": [],
   "source": [
    "matrix1=['Day', [23,45],'Monday', [[12,13],[14,15]]]"
   ]
  },
  {
   "cell_type": "code",
   "execution_count": 25,
   "id": "a98240ca",
   "metadata": {},
   "outputs": [
    {
     "name": "stdout",
     "output_type": "stream",
     "text": [
      "Monday: Monday\n"
     ]
    }
   ],
   "source": [
    "print(f\"Monday: {matrix1[2]}\")"
   ]
  },
  {
   "cell_type": "code",
   "execution_count": 27,
   "id": "fb5b7340",
   "metadata": {},
   "outputs": [
    {
     "name": "stdout",
     "output_type": "stream",
     "text": [
      "13:  13\n"
     ]
    }
   ],
   "source": [
    "print(\"13: \",matrix1[3][0][1])"
   ]
  },
  {
   "cell_type": "code",
   "execution_count": 28,
   "id": "05b16f23",
   "metadata": {},
   "outputs": [
    {
     "name": "stdout",
     "output_type": "stream",
     "text": [
      "15\n"
     ]
    }
   ],
   "source": [
    "print(matrix1[3][1][1])"
   ]
  },
  {
   "cell_type": "code",
   "execution_count": null,
   "id": "6ad0d704",
   "metadata": {},
   "outputs": [],
   "source": []
  }
 ],
 "metadata": {
  "kernelspec": {
   "display_name": "Python 3 (ipykernel)",
   "language": "python",
   "name": "python3"
  },
  "language_info": {
   "codemirror_mode": {
    "name": "ipython",
    "version": 3
   },
   "file_extension": ".py",
   "mimetype": "text/x-python",
   "name": "python",
   "nbconvert_exporter": "python",
   "pygments_lexer": "ipython3",
   "version": "3.11.4"
  }
 },
 "nbformat": 4,
 "nbformat_minor": 5
}
